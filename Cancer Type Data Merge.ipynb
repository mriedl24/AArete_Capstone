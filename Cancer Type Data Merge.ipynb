{
 "cells": [
  {
   "cell_type": "code",
   "execution_count": 7,
   "id": "803bd687",
   "metadata": {},
   "outputs": [],
   "source": [
    "# Import necessary libraries\n",
    "import pandas as pd\n",
    "\n",
    "# Load the datasets\n",
    "breast_cancer_df = pd.read_excel(\"downloads/BreastCancerIowa.xlsx\")\n",
    "prostate_cancer_df = pd.read_excel(\"downloads/ProstateCancerIowa.xlsx\")\n",
    "lung_cancer_df = pd.read_excel(\"downloads/LungCancerIowa.xlsx\")\n",
    "melanoma_cancer_df = pd.read_excel(\"downloads/CleanMelanomaSet.xlsx\")\n",
    "\n",
    "# Select relevant columns\n",
    "breast_cancer_df = breast_cancer_df[['County', 'FIPS', 'Age-Adjusted Incidence Rate([rate note]) - cases per 100,000', 'Average Annual Count', 'Recent Trend']]\n",
    "breast_cancer_df.columns = ['County', 'FIPS', 'Breast Cancer Rate', 'Breast Cancer Count', 'Breast Cancer Trend']\n",
    "\n",
    "prostate_cancer_df = prostate_cancer_df[['County', 'FIPS', 'Age-Adjusted Incidence Rate([rate note]) - cases per 100,000', 'Average Annual Count', 'Recent Trend']]\n",
    "prostate_cancer_df.columns = ['County', 'FIPS', 'Prostate Cancer Rate', 'Prostate Cancer Count', 'Prostate Cancer Trend']\n",
    "\n",
    "lung_cancer_df = lung_cancer_df[['County', 'FIPS', 'Age-Adjusted Incidence Rate([rate note]) - cases per 100,000', 'Average Annual Count', 'Recent Trend']]\n",
    "lung_cancer_df.columns = ['County', 'FIPS', 'Lung Cancer Rate', 'Lung Cancer Count', 'Lung Cancer Trend']\n",
    "\n",
    "melanoma_cancer_df = melanoma_cancer_df[['County', 'FIPS', 'Age-Adjusted Incidence Rate([rate note]) - cases per 100,000', 'Average Annual Count', 'Recent Trend']]\n",
    "melanoma_cancer_df.columns = ['County', 'FIPS', 'Melanoma Cancer Rate', 'Melanoma Cancer Count', 'Melanoma Cancer Trend']\n",
    "\n",
    "# Merge the datasets on 'County' and 'FIPS'\n",
    "merged_df = breast_cancer_df.merge(prostate_cancer_df, on=['County', 'FIPS'], how='outer')\n",
    "merged_df = merged_df.merge(lung_cancer_df, on=['County', 'FIPS'], how='outer')\n",
    "\n",
    "# Save the merged dataset to a new Excel file\n",
    "merged_df.to_excel(\"Merged_Cancer_Data2.xlsx\", index=False)"
   ]
  },
  {
   "cell_type": "code",
   "execution_count": null,
   "id": "d5ff13fd",
   "metadata": {},
   "outputs": [],
   "source": []
  }
 ],
 "metadata": {
  "kernelspec": {
   "display_name": "Python 3 (ipykernel)",
   "language": "python",
   "name": "python3"
  },
  "language_info": {
   "codemirror_mode": {
    "name": "ipython",
    "version": 3
   },
   "file_extension": ".py",
   "mimetype": "text/x-python",
   "name": "python",
   "nbconvert_exporter": "python",
   "pygments_lexer": "ipython3",
   "version": "3.11.5"
  }
 },
 "nbformat": 4,
 "nbformat_minor": 5
}
